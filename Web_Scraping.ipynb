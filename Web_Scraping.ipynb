{
 "cells": [
  {
   "cell_type": "code",
   "execution_count": null,
   "id": "d72d2e0a",
   "metadata": {},
   "outputs": [],
   "source": [
    "import requests\n",
    "from bs4 import BeautifulSoup\n",
    "import pandas as pd\n",
    "\n",
    "# list to store the data\n",
    "data = []\n",
    "\n",
    "# URLfor Amazon product listings\n",
    "base_url = \"https://www.amazon.in/s?k=bags&crid=2M096C61O4MLT&qid=1653308124&sprefix=ba%2Caps%2C283&ref=sr_pg_{}\"\n",
    "\n",
    "# Loop to 20 or more pages\n",
    "for page_number in range(1, 21):\n",
    "    url = base_url.format(page_number)\n",
    "    response = requests.get(url)\n",
    "    soup = BeautifulSoup(response.content, \"html.parser\")\n",
    "\n",
    "    # Extracting product details from the page\n",
    "    products = soup.find_all(\"div\", {\"data-component-type\": \"s-search-result\"})\n",
    "\n",
    "    for product in products:\n",
    "        product_url = \"https://www.amazon.in\" + product.find(\"a\", {\"class\": \"s-no-outline\"}).get(\"href\")\n",
    "        product_name = product.find(\"span\", {\"class\": \"a-text-normal\"}).text\n",
    "        product_price = product.find(\"span\", {\"class\": \"a-price-whole\"}).text\n",
    "        product_rating = product.find(\"span\", {\"class\": \"a-icon-alt\"}).text\n",
    "        product_reviews = product.find(\"span\", {\"class\": \"a-size-base\"}).text\n",
    "\n",
    "        # Append product details to the data list at line 6...\n",
    "        data.append([product_url, product_name, product_price, product_rating, product_reviews])\n",
    "\n",
    "# Create a DataFrame from the collected data\n",
    "df = pd.DataFrame(data, columns=[\"Product URL\", \"Product Name\", \"Product Price\", \"Rating\", \"Number of Reviews\"])\n",
    "\n",
    "# Saveing the data to a CSV file\n",
    "df.to_csv(\"amazon_products.csv\", index=False)\n",
    "\n",
    "print(\"Data scraping and CSV export complete.\")"
   ]
  },
  {
   "cell_type": "code",
   "execution_count": null,
   "id": "9ecbb870",
   "metadata": {},
   "outputs": [],
   "source": []
  }
 ],
 "metadata": {
  "kernelspec": {
   "display_name": "Python 3 (ipykernel)",
   "language": "python",
   "name": "python3"
  },
  "language_info": {
   "codemirror_mode": {
    "name": "ipython",
    "version": 3
   },
   "file_extension": ".py",
   "mimetype": "text/x-python",
   "name": "python",
   "nbconvert_exporter": "python",
   "pygments_lexer": "ipython3",
   "version": "3.11.4"
  }
 },
 "nbformat": 4,
 "nbformat_minor": 5
}
